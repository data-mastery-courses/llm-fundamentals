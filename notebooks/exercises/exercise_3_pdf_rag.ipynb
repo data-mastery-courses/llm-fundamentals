{
 "cells": [
  {
   "cell_type": "markdown",
   "metadata": {},
   "source": [
    "# Exercise 3 - RAG Chatbot\n",
    "\n",
    "Have a look at the example in the `examples` folder.\n",
    "\n",
    "Create a similar assistant, in this case it should be able to answer questions about the AI Act, the AI Act pdf can be found here: https://eur-lex.europa.eu/resource.html?uri=cellar:e0649735-a372-11eb-9585-01aa75ed71a1.0001.02/DOC_1&format=PDF\n"
   ]
  },
  {
   "cell_type": "code",
   "execution_count": null,
   "metadata": {},
   "outputs": [],
   "source": [
    "..."
   ]
  }
 ],
 "metadata": {
  "language_info": {
   "name": "python"
  }
 },
 "nbformat": 4,
 "nbformat_minor": 2
}
