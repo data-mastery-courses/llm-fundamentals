{
 "cells": [
  {
   "cell_type": "markdown",
   "metadata": {},
   "source": [
    "## Exercise 1 - Manual chat requests\n",
    "\n",
    "Most LLM APIs are compatible with OpenAI's API. This makes it easy to switch between providers.\n",
    "To understand the core of what happens in most chatbots, let's manually chat with an LLM.\n",
    "\n",
    "Run the cell below, try some different messages.\n"
   ]
  },
  {
   "cell_type": "code",
   "execution_count": null,
   "metadata": {},
   "outputs": [],
   "source": [
    "import httpx\n",
    "\n",
    "\n",
    "def get_chat_response(messages: list[dict]) -> str:\n",
    "    data = {\"model\": \"llama3.2:3b\", \"messages\": messages}\n",
    "    response = httpx.post(\"http://localhost:11434/v1/chat/completions\", json=data)\n",
    "    return response.json()[\"choices\"][0][\"message\"][\"content\"]\n",
    "\n",
    "\n",
    "example_messages = [\n",
    "    {\"role\": \"system\", \"content\": \"You are a helpful assistant.\"},\n",
    "    {\"role\": \"user\", \"content\": \"What is the capital of the Netherlands?\"},\n",
    "]\n",
    "\n",
    "get_chat_response(example_messages)"
   ]
  },
  {
   "cell_type": "markdown",
   "metadata": {},
   "source": [
    "### Exercise 1.1\n",
    "\n",
    "- Create a chatbot that thinks it is Super Mario in search of the princess.\n",
    "- Adjust the chatbot so that it can handle a whole conversation.\n"
   ]
  },
  {
   "cell_type": "code",
   "execution_count": null,
   "metadata": {},
   "outputs": [],
   "source": [
    "..."
   ]
  },
  {
   "cell_type": "markdown",
   "metadata": {},
   "source": [
    "### Exercise 1.2\n",
    "\n",
    "Create a script that uses llama3.2 to classify the following bank statements into the categories above.\n"
   ]
  },
  {
   "cell_type": "code",
   "execution_count": null,
   "metadata": {},
   "outputs": [],
   "source": [
    "categories = [\"groceries\", \"restaurants\", \"bills\", \"income\", \"other\"]\n",
    "\n",
    "bank_statements = [\n",
    "    \"M Visser via Betaalverzoek - CCV La Mia Mina BV\",\n",
    "    \"ALBERT HEIJN 1294 - UTRECHT pasnr 064\",\n",
    "    \"NEW YORK PIZZA - DEN HAAG 0401\",\n",
    "    \"So-Low BCK - aankoop 5471\",\n",
    "    \"Belastingdienst - 84798902\",\n",
    "    \"Data Mastery - Salaris maart\",\n",
    "]\n",
    "\n",
    "..."
   ]
  },
  {
   "cell_type": "markdown",
   "metadata": {},
   "source": [
    "## Bonus exercise\n",
    "\n",
    "Try to use structured output to ensure the LLM always returns one of the categories listed in the previous exercise.\n"
   ]
  },
  {
   "cell_type": "code",
   "execution_count": null,
   "metadata": {},
   "outputs": [],
   "source": [
    "..."
   ]
  }
 ],
 "metadata": {
  "kernelspec": {
   "display_name": ".venv",
   "language": "python",
   "name": "python3"
  },
  "language_info": {
   "codemirror_mode": {
    "name": "ipython",
    "version": 3
   },
   "file_extension": ".py",
   "mimetype": "text/x-python",
   "name": "python",
   "nbconvert_exporter": "python",
   "pygments_lexer": "ipython3",
   "version": "3.12.6"
  }
 },
 "nbformat": 4,
 "nbformat_minor": 2
}
