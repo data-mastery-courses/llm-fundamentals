{
 "cells": [
  {
   "cell_type": "markdown",
   "metadata": {},
   "source": [
    "## Exercise 2 - Vector similarity search\n",
    "\n",
    "Run the cell below to get embeddings for the example sentences.\n"
   ]
  },
  {
   "cell_type": "code",
   "execution_count": null,
   "metadata": {},
   "outputs": [],
   "source": [
    "import httpx\n",
    "import numpy as np\n",
    "\n",
    "\n",
    "def get_embeddings(texts: list[str]) -> list[np.ndarray]:\n",
    "    data = {\"model\": \"nomic-embed-text\", \"input\": texts}\n",
    "    response = httpx.post(\"http://localhost:11434/v1/embeddings\", json=data)\n",
    "    return [np.array(data[\"embedding\"]) for data in response.json()[\"data\"]]\n",
    "\n",
    "\n",
    "def cosine_similarity(a: np.ndarray, b: np.ndarray):\n",
    "    return np.dot(a, b) / (np.linalg.norm(a) * np.linalg.norm(b))\n",
    "\n",
    "\n",
    "# Define original documents\n",
    "sentences = [\n",
    "    \"The sky is blue because of Rayleigh scattering\",\n",
    "    \"Water boils at 100 degrees Celsius at sea level\",\n",
    "    \"The Earth orbits around the Sun\",\n",
    "    \"Photosynthesis is the process by which plants make their food\",\n",
    "]\n",
    "\n",
    "# Get embeddings for original documents\n",
    "embeddings = get_embeddings(sentences)\n",
    "print(embeddings[2].shape)\n"
   ]
  },
  {
   "cell_type": "markdown",
   "metadata": {},
   "source": [
    "### Exercise\n",
    "\n",
    "Write a new sentence, get its embedding and calculate the similarity with the original documents.\n"
   ]
  },
  {
   "cell_type": "code",
   "execution_count": null,
   "metadata": {},
   "outputs": [],
   "source": [
    "new_sentence = \"Light scattering in the atmosphere causes the sky's color\"\n",
    "\n",
    "..."
   ]
  },
  {
   "cell_type": "markdown",
   "metadata": {},
   "source": [
    "## Bonus exercise\n",
    "\n",
    "If you are done with this quickly, try to use LanceDB to store the embeddings and run the same similarity search with it.\n"
   ]
  },
  {
   "cell_type": "code",
   "execution_count": null,
   "metadata": {},
   "outputs": [],
   "source": []
  }
 ],
 "metadata": {
  "kernelspec": {
   "display_name": ".venv",
   "language": "python",
   "name": "python3"
  },
  "language_info": {
   "codemirror_mode": {
    "name": "ipython",
    "version": 3
   },
   "file_extension": ".py",
   "mimetype": "text/x-python",
   "name": "python",
   "nbconvert_exporter": "python",
   "pygments_lexer": "ipython3",
   "version": "3.12.6"
  }
 },
 "nbformat": 4,
 "nbformat_minor": 2
}
