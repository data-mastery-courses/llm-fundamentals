{
 "cells": [
  {
   "cell_type": "code",
   "execution_count": null,
   "metadata": {},
   "outputs": [],
   "source": [
    "from phi.assistant import Assistant\n",
    "from phi.embedder.ollama import OllamaEmbedder\n",
    "from phi.knowledge.website import WebsiteKnowledgeBase\n",
    "from phi.llm.ollama import Ollama\n",
    "from phi.vectordb.lancedb import LanceDb\n",
    "\n",
    "vector_db = LanceDb(\n",
    "    embedder=OllamaEmbedder(model=\"nomic-embed-text\"),\n",
    "    uri=\"data/vector_db\",\n",
    "    table_name=\"datamastery\",\n",
    ")\n",
    "\n",
    "knowledge_base = WebsiteKnowledgeBase(\n",
    "    urls=[\"https://datamastery.nl/\"],\n",
    "    max_links=3,\n",
    "    vector_db=vector_db,\n",
    ")\n",
    "\n",
    "knowledge_base.load(recreate=True)\n",
    "\n",
    "assistant = Assistant(\n",
    "    llm=Ollama(model=\"llama3.2:3b\"),\n",
    "    knowledge_base=knowledge_base,\n",
    "    add_chat_history_to_messages=True,\n",
    "    add_references_to_prompt=True,\n",
    ")"
   ]
  },
  {
   "cell_type": "code",
   "execution_count": null,
   "metadata": {},
   "outputs": [],
   "source": [
    "assistant.print_response(\n",
    "    \"Which courses are best suited to someone with a data analytis background that wants to become a data engineer?\"\n",
    ")"
   ]
  }
 ],
 "metadata": {
  "kernelspec": {
   "display_name": ".venv",
   "language": "python",
   "name": "python3"
  },
  "language_info": {
   "codemirror_mode": {
    "name": "ipython",
    "version": 3
   },
   "file_extension": ".py",
   "mimetype": "text/x-python",
   "name": "python",
   "nbconvert_exporter": "python",
   "pygments_lexer": "ipython3",
   "version": "3.12.6"
  }
 },
 "nbformat": 4,
 "nbformat_minor": 2
}
